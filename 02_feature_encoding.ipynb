{
 "cells": [
  {
   "cell_type": "markdown",
   "metadata": {},
   "source": [
    "# feature Encoding"
   ]
  },
  {
   "cell_type": "markdown",
   "metadata": {},
   "source": [
    "## 1. One-Hot Encoding:"
   ]
  },
  {
   "cell_type": "code",
   "execution_count": 1,
   "metadata": {},
   "outputs": [
    {
     "name": "stdout",
     "output_type": "stream",
     "text": [
      "   Color\n",
      "0    Red\n",
      "1  Green\n",
      "2   Blue\n",
      "3    Red\n",
      "   Color_Blue  Color_Green  Color_Red\n",
      "0       False        False       True\n",
      "1       False         True      False\n",
      "2        True        False      False\n",
      "3       False        False       True\n"
     ]
    }
   ],
   "source": [
    "#1 Importing the libraries: \n",
    "import pandas as pd\n",
    "\n",
    "#2 Sample data:\n",
    "data = {'Color': ['Red', 'Green', 'Blue', 'Red']}\n",
    "\n",
    "#3 Create DataFrame:\n",
    "df = pd.DataFrame(data)\n",
    "print(df)\n",
    "\n",
    "#4 One-Hot Encoding:\n",
    "encoded_data = pd.get_dummies(df, columns=['Color'])\n",
    "# 'pd.get_dummies' converts categorical data into dummy or indicator variables.\n",
    "# 'pd.get_dummies' returns a DataFrame with encoded data.\n",
    "# 'columns' is used to specify the columns to be encoded.\n",
    "\n",
    "print(encoded_data)"
   ]
  },
  {
   "cell_type": "markdown",
   "metadata": {},
   "source": [
    "## 2. Label Encoding:"
   ]
  },
  {
   "cell_type": "code",
   "execution_count": 2,
   "metadata": {},
   "outputs": [
    {
     "name": "stdout",
     "output_type": "stream",
     "text": [
      "  Animal\n",
      "0    Dog\n",
      "1    Cat\n",
      "2   Bird\n",
      "3    Dog\n",
      "4   Bird\n",
      "  Animal  Animal_encoded\n",
      "0    Dog               2\n",
      "1    Cat               1\n",
      "2   Bird               0\n",
      "3    Dog               2\n",
      "4   Bird               0\n"
     ]
    }
   ],
   "source": [
    "#1 Importing the libraries:\n",
    "from sklearn.preprocessing import LabelEncoder\n",
    "# 'LabelEncoder' is a class from 'sklearn.preprocessing' module.\n",
    "# 'LabelEncoder' converts categorical data into numbers.\n",
    "\n",
    "#2 Sample data:\n",
    "data = {'Animal': ['Dog', 'Cat', 'Bird', 'Dog', \"Bird\"]}\n",
    "\n",
    "#3 Create DataFrame:\n",
    "df = pd.DataFrame(data)\n",
    "print(df)\n",
    "\n",
    "#4 Label Encoding:\n",
    "label_encoder = LabelEncoder()\n",
    "df['Animal_encoded'] = label_encoder.fit_transform(df['Animal'])\n",
    "print(df)"
   ]
  },
  {
   "cell_type": "markdown",
   "metadata": {},
   "source": [
    "## 3. Ordinal Encoding:"
   ]
  },
  {
   "cell_type": "code",
   "execution_count": 3,
   "metadata": {},
   "outputs": [
    {
     "name": "stdout",
     "output_type": "stream",
     "text": [
      "     Size\n",
      "0   Small\n",
      "1  Medium\n",
      "2   Large\n",
      "3  Medium\n",
      "     Size  Size_encoded\n",
      "0   Small           0.0\n",
      "1  Medium           1.0\n",
      "2   Large           2.0\n",
      "3  Medium           1.0\n"
     ]
    }
   ],
   "source": [
    "#1 Importing the libraries:\n",
    "from sklearn.preprocessing import OrdinalEncoder\n",
    "# 'OrdinalEncoder' is a class from 'sklearn.preprocessing' module.\n",
    "# 'OrdinalEncoder' converts categorical data into numbers.\n",
    "\n",
    "#2 Sample data:\n",
    "data = {'Size': ['Small', 'Medium', 'Large', 'Medium']}\n",
    "\n",
    "#3 Create DataFrame:\n",
    "df = pd.DataFrame(data)\n",
    "print(df)\n",
    "\n",
    "#4 Ordinal Encoding:\n",
    "# define ordial encoder: \n",
    "ordinal_encoder = OrdinalEncoder(categories=[['Small', 'Medium', 'Large']])\n",
    "df['Size_encoded'] = ordinal_encoder.fit_transform(df[['Size']])\n",
    "print(df)\n"
   ]
  },
  {
   "cell_type": "markdown",
   "metadata": {},
   "source": [
    "---\n",
    "\n",
    "# Information about the author:\n",
    "\n",
    "- **Author**: Muhammad Fareed Khan\n",
    "- **Code Submission Date**: 12-12-2023\n",
    "- **Author's Contact Info**:\n",
    "  \n",
    "    - Email: [Email](mailto:contact@mfareedkhan.com)\n",
    "    - Github: [Github](https://github.com/fareedkhands)\n",
    "    - Kaggle: [Kaggle](https://www.kaggle.com/muhammadfareedkhan)\n",
    "    - LinkedIn: [LinkedIn](https://www.linkedin.com/in/fareed-khan-385b79150/)\n",
    "    - Twitter: [Twitter](https://twitter.com/fareedkhanmeyo)\n"
   ]
  }
 ],
 "metadata": {
  "kernelspec": {
   "display_name": "python_eda",
   "language": "python",
   "name": "python3"
  },
  "language_info": {
   "codemirror_mode": {
    "name": "ipython",
    "version": 3
   },
   "file_extension": ".py",
   "mimetype": "text/x-python",
   "name": "python",
   "nbconvert_exporter": "python",
   "pygments_lexer": "ipython3",
   "version": "3.11.5"
  }
 },
 "nbformat": 4,
 "nbformat_minor": 2
}
