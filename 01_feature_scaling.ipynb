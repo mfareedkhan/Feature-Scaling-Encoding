{
 "cells": [
  {
   "cell_type": "markdown",
   "metadata": {},
   "source": [
    "# Feature Scaling"
   ]
  },
  {
   "cell_type": "code",
   "execution_count": 1,
   "metadata": {},
   "outputs": [],
   "source": [
    "# pip install scikit-learn"
   ]
  },
  {
   "cell_type": "markdown",
   "metadata": {},
   "source": [
    "## 1. Min-Max Scaling"
   ]
  },
  {
   "cell_type": "code",
   "execution_count": 6,
   "metadata": {},
   "outputs": [
    {
     "data": {
      "text/html": [
       "<div>\n",
       "<style scoped>\n",
       "    .dataframe tbody tr th:only-of-type {\n",
       "        vertical-align: middle;\n",
       "    }\n",
       "\n",
       "    .dataframe tbody tr th {\n",
       "        vertical-align: top;\n",
       "    }\n",
       "\n",
       "    .dataframe thead th {\n",
       "        text-align: right;\n",
       "    }\n",
       "</style>\n",
       "<table border=\"1\" class=\"dataframe\">\n",
       "  <thead>\n",
       "    <tr style=\"text-align: right;\">\n",
       "      <th></th>\n",
       "      <th>sample_numbers</th>\n",
       "    </tr>\n",
       "  </thead>\n",
       "  <tbody>\n",
       "    <tr>\n",
       "      <th>0</th>\n",
       "      <td>10</td>\n",
       "    </tr>\n",
       "    <tr>\n",
       "      <th>1</th>\n",
       "      <td>20</td>\n",
       "    </tr>\n",
       "    <tr>\n",
       "      <th>2</th>\n",
       "      <td>30</td>\n",
       "    </tr>\n",
       "    <tr>\n",
       "      <th>3</th>\n",
       "      <td>40</td>\n",
       "    </tr>\n",
       "    <tr>\n",
       "      <th>4</th>\n",
       "      <td>50</td>\n",
       "    </tr>\n",
       "  </tbody>\n",
       "</table>\n",
       "</div>"
      ],
      "text/plain": [
       "   sample_numbers\n",
       "0              10\n",
       "1              20\n",
       "2              30\n",
       "3              40\n",
       "4              50"
      ]
     },
     "execution_count": 6,
     "metadata": {},
     "output_type": "execute_result"
    }
   ],
   "source": [
    "#1 Import Libraries:\n",
    "import pandas as pd\n",
    "from sklearn.preprocessing import MinMaxScaler\n",
    "\n",
    "# sklearn is a machine learning library for python\n",
    "# preprocessing is a module within sklearn\n",
    "# MinMaxScaler is a class within preprocessing\n",
    "\n",
    "#2 Sample data:\n",
    "data = {'sample_numbers': [10, 20, 30, 40, 50]}\n",
    "\n",
    "# create dataframe:\n",
    "df = pd.DataFrame(data)\n",
    "# dp.dataframe is a function within pandas which creates a dataframe\n",
    "# dataframe is a 2 dimensional data structure\n",
    "# data is a dictionary which is a data structure in python that stores data in key value pairs \n",
    "# data is a dictionary with one key called sample_numbers and the value is a list of numbers\n",
    "\n",
    "# Show sample data:\n",
    "df.head()"
   ]
  },
  {
   "cell_type": "code",
   "execution_count": 7,
   "metadata": {},
   "outputs": [
    {
     "data": {
      "text/html": [
       "<div>\n",
       "<style scoped>\n",
       "    .dataframe tbody tr th:only-of-type {\n",
       "        vertical-align: middle;\n",
       "    }\n",
       "\n",
       "    .dataframe tbody tr th {\n",
       "        vertical-align: top;\n",
       "    }\n",
       "\n",
       "    .dataframe thead th {\n",
       "        text-align: right;\n",
       "    }\n",
       "</style>\n",
       "<table border=\"1\" class=\"dataframe\">\n",
       "  <thead>\n",
       "    <tr style=\"text-align: right;\">\n",
       "      <th></th>\n",
       "      <th>sample_numbers</th>\n",
       "      <th>sample_numbers_scaled</th>\n",
       "    </tr>\n",
       "  </thead>\n",
       "  <tbody>\n",
       "    <tr>\n",
       "      <th>0</th>\n",
       "      <td>10</td>\n",
       "      <td>0.00</td>\n",
       "    </tr>\n",
       "    <tr>\n",
       "      <th>1</th>\n",
       "      <td>20</td>\n",
       "      <td>0.25</td>\n",
       "    </tr>\n",
       "    <tr>\n",
       "      <th>2</th>\n",
       "      <td>30</td>\n",
       "      <td>0.50</td>\n",
       "    </tr>\n",
       "    <tr>\n",
       "      <th>3</th>\n",
       "      <td>40</td>\n",
       "      <td>0.75</td>\n",
       "    </tr>\n",
       "    <tr>\n",
       "      <th>4</th>\n",
       "      <td>50</td>\n",
       "      <td>1.00</td>\n",
       "    </tr>\n",
       "  </tbody>\n",
       "</table>\n",
       "</div>"
      ],
      "text/plain": [
       "   sample_numbers  sample_numbers_scaled\n",
       "0              10                   0.00\n",
       "1              20                   0.25\n",
       "2              30                   0.50\n",
       "3              40                   0.75\n",
       "4              50                   1.00"
      ]
     },
     "execution_count": 7,
     "metadata": {},
     "output_type": "execute_result"
    }
   ],
   "source": [
    "#4 Scale the data using Min-Max Scalar:\n",
    "scaler = MinMaxScaler()\n",
    "\n",
    "# 'MinMaxScalar' is a class within 'sklearn.preprocessing'\n",
    "# 'MinMaxScalar' is a function that scales data to a specified range\n",
    "# 'scaler' is an instance of the MinMaxScalar class\n",
    "\n",
    "df['sample_numbers_scaled'] = scaler.fit_transform(df[['sample_numbers']])\n",
    "\n",
    "# `sample_numbers_scaled` is a new column in the dataframe\n",
    "# `fit_transform` is a function within the MinMaxScalar class\n",
    "# `fit_transform` is a function that fits to the data and then transforms it\n",
    "# `fit_transform` takes a dataframe as input\n",
    "\n",
    "# Show sample data:\n",
    "df.head()"
   ]
  },
  {
   "cell_type": "markdown",
   "metadata": {},
   "source": [
    "## Key Points:\n",
    "- `min` is 0 and `max` is 1\n",
    "- the data has been scaled to a range of 0 to 1\n",
    "- equation used to scale the data: (`x - min(x)) / (max(x) - min(x)`)\n",
    "- `x` is a value in the sample_numbers column\n",
    "- `min(x)` is the minimum value in the sample_numbers column\n",
    "- `max(x)` is the maximum value in the sample_numbers column\n",
    "- min-max scaling is useful when you want to compare the relative size of numbers"
   ]
  },
  {
   "cell_type": "markdown",
   "metadata": {},
   "source": [
    "# 2. Standard Scaler or Z-score Normalization:"
   ]
  },
  {
   "cell_type": "code",
   "execution_count": 8,
   "metadata": {},
   "outputs": [
    {
     "data": {
      "text/html": [
       "<div>\n",
       "<style scoped>\n",
       "    .dataframe tbody tr th:only-of-type {\n",
       "        vertical-align: middle;\n",
       "    }\n",
       "\n",
       "    .dataframe tbody tr th {\n",
       "        vertical-align: top;\n",
       "    }\n",
       "\n",
       "    .dataframe thead th {\n",
       "        text-align: right;\n",
       "    }\n",
       "</style>\n",
       "<table border=\"1\" class=\"dataframe\">\n",
       "  <thead>\n",
       "    <tr style=\"text-align: right;\">\n",
       "      <th></th>\n",
       "      <th>sample_numbers</th>\n",
       "    </tr>\n",
       "  </thead>\n",
       "  <tbody>\n",
       "    <tr>\n",
       "      <th>0</th>\n",
       "      <td>10</td>\n",
       "    </tr>\n",
       "    <tr>\n",
       "      <th>1</th>\n",
       "      <td>20</td>\n",
       "    </tr>\n",
       "    <tr>\n",
       "      <th>2</th>\n",
       "      <td>30</td>\n",
       "    </tr>\n",
       "    <tr>\n",
       "      <th>3</th>\n",
       "      <td>40</td>\n",
       "    </tr>\n",
       "    <tr>\n",
       "      <th>4</th>\n",
       "      <td>50</td>\n",
       "    </tr>\n",
       "  </tbody>\n",
       "</table>\n",
       "</div>"
      ],
      "text/plain": [
       "   sample_numbers\n",
       "0              10\n",
       "1              20\n",
       "2              30\n",
       "3              40\n",
       "4              50"
      ]
     },
     "execution_count": 8,
     "metadata": {},
     "output_type": "execute_result"
    }
   ],
   "source": [
    "#1 Import Libraries:\n",
    "import pandas as pd\n",
    "from sklearn.preprocessing import StandardScaler\n",
    "\n",
    "# standard scaler is a class within preprocessing\n",
    "\n",
    "#2 Sample data:\n",
    "data = {'sample_numbers': [10, 20, 30, 40, 50]}\n",
    "\n",
    "#3 create dataframe:\n",
    "df = pd.DataFrame(data)\n",
    "\n",
    "# Show sample data:\n",
    "df.head()"
   ]
  },
  {
   "cell_type": "code",
   "execution_count": 9,
   "metadata": {},
   "outputs": [
    {
     "data": {
      "text/html": [
       "<div>\n",
       "<style scoped>\n",
       "    .dataframe tbody tr th:only-of-type {\n",
       "        vertical-align: middle;\n",
       "    }\n",
       "\n",
       "    .dataframe tbody tr th {\n",
       "        vertical-align: top;\n",
       "    }\n",
       "\n",
       "    .dataframe thead th {\n",
       "        text-align: right;\n",
       "    }\n",
       "</style>\n",
       "<table border=\"1\" class=\"dataframe\">\n",
       "  <thead>\n",
       "    <tr style=\"text-align: right;\">\n",
       "      <th></th>\n",
       "      <th>sample_numbers</th>\n",
       "      <th>sample_numbers_scaled</th>\n",
       "    </tr>\n",
       "  </thead>\n",
       "  <tbody>\n",
       "    <tr>\n",
       "      <th>0</th>\n",
       "      <td>10</td>\n",
       "      <td>-1.414214</td>\n",
       "    </tr>\n",
       "    <tr>\n",
       "      <th>1</th>\n",
       "      <td>20</td>\n",
       "      <td>-0.707107</td>\n",
       "    </tr>\n",
       "    <tr>\n",
       "      <th>2</th>\n",
       "      <td>30</td>\n",
       "      <td>0.000000</td>\n",
       "    </tr>\n",
       "    <tr>\n",
       "      <th>3</th>\n",
       "      <td>40</td>\n",
       "      <td>0.707107</td>\n",
       "    </tr>\n",
       "    <tr>\n",
       "      <th>4</th>\n",
       "      <td>50</td>\n",
       "      <td>1.414214</td>\n",
       "    </tr>\n",
       "  </tbody>\n",
       "</table>\n",
       "</div>"
      ],
      "text/plain": [
       "   sample_numbers  sample_numbers_scaled\n",
       "0              10              -1.414214\n",
       "1              20              -0.707107\n",
       "2              30               0.000000\n",
       "3              40               0.707107\n",
       "4              50               1.414214"
      ]
     },
     "execution_count": 9,
     "metadata": {},
     "output_type": "execute_result"
    }
   ],
   "source": [
    "#4 scale the data using 'Standard Scalar':\n",
    "scaler = StandardScaler()\n",
    "df['sample_numbers_scaled'] = scaler.fit_transform(df[['sample_numbers']])\n",
    "df.head()"
   ]
  },
  {
   "cell_type": "markdown",
   "metadata": {},
   "source": [
    "## Key Points:\n",
    "- Standard Scalar scales the data to have a mean of 0 and a standard deviation of 1\n",
    "- Standard Scaler may gives you `negative values`\n",
    "- `negative values` are problematic for some machine learning algorithms\n",
    "- some algorithms require the data to be scaled between 0 and 1\n",
    "- So, `avoid` using `Standard Scaler` when your algorithm does not support negative values\n",
    "- `equation` for standard scaler is: `(x - mean(x)) / standard deviation(x)`\n",
    "- `mean(x)` is the mean of the sample_numbers column\n",
    "- `standard deviation(x)` is the standard deviation of the sample_numbers column\n",
    "- `x` is each value in the sample_numbers column\n"
   ]
  },
  {
   "cell_type": "markdown",
   "metadata": {},
   "source": [
    "# 3. Robust scalar"
   ]
  },
  {
   "cell_type": "code",
   "execution_count": 11,
   "metadata": {},
   "outputs": [
    {
     "data": {
      "text/html": [
       "<div>\n",
       "<style scoped>\n",
       "    .dataframe tbody tr th:only-of-type {\n",
       "        vertical-align: middle;\n",
       "    }\n",
       "\n",
       "    .dataframe tbody tr th {\n",
       "        vertical-align: top;\n",
       "    }\n",
       "\n",
       "    .dataframe thead th {\n",
       "        text-align: right;\n",
       "    }\n",
       "</style>\n",
       "<table border=\"1\" class=\"dataframe\">\n",
       "  <thead>\n",
       "    <tr style=\"text-align: right;\">\n",
       "      <th></th>\n",
       "      <th>sample_numbers</th>\n",
       "    </tr>\n",
       "  </thead>\n",
       "  <tbody>\n",
       "    <tr>\n",
       "      <th>0</th>\n",
       "      <td>10</td>\n",
       "    </tr>\n",
       "    <tr>\n",
       "      <th>1</th>\n",
       "      <td>20</td>\n",
       "    </tr>\n",
       "    <tr>\n",
       "      <th>2</th>\n",
       "      <td>30</td>\n",
       "    </tr>\n",
       "    <tr>\n",
       "      <th>3</th>\n",
       "      <td>1000</td>\n",
       "    </tr>\n",
       "    <tr>\n",
       "      <th>4</th>\n",
       "      <td>50</td>\n",
       "    </tr>\n",
       "  </tbody>\n",
       "</table>\n",
       "</div>"
      ],
      "text/plain": [
       "   sample_numbers\n",
       "0              10\n",
       "1              20\n",
       "2              30\n",
       "3            1000\n",
       "4              50"
      ]
     },
     "execution_count": 11,
     "metadata": {},
     "output_type": "execute_result"
    }
   ],
   "source": [
    "#1 Import Libraries:\n",
    "from sklearn.preprocessing import RobustScaler\n",
    "# RobustScaler is a class within preprocessing\n",
    "# RobustScaler is a function that scales data with outliers\n",
    "# RobustScaler is a function that scales data to median and quantiles\n",
    "\n",
    "#2 Sample data with outliers\n",
    "data = {'sample_numbers': [10, 20, 30, 1000, 50]}\n",
    "\n",
    "# 1000 is an outlier in this dataset\n",
    "\n",
    "#3 create a dataframe:\n",
    "df = pd.DataFrame(data)\n",
    "\n",
    "# Show sample data:\n",
    "df.head()"
   ]
  },
  {
   "cell_type": "code",
   "execution_count": 13,
   "metadata": {},
   "outputs": [
    {
     "name": "stdout",
     "output_type": "stream",
     "text": [
      "   sample_numbers  sample_numbers_scaled\n",
      "0              10              -0.666667\n",
      "1              20              -0.333333\n",
      "2              30               0.000000\n",
      "3            1000              32.333333\n",
      "4              50               0.666667\n"
     ]
    }
   ],
   "source": [
    "#4 Robust Scaling:\n",
    "scaler = RobustScaler()\n",
    "df['sample_numbers_scaled'] = scaler.fit_transform(df[['sample_numbers']])\n",
    "print(df)"
   ]
  },
  {
   "cell_type": "markdown",
   "metadata": {},
   "source": [
    "## Key Points:\n",
    "- `1000` is an outlier\n",
    "- (`outlier` is a value that is significantly higher or lower than most of the values in a dataset)\n",
    "- (`outliers` can skew the results of data analysis)\n",
    "- `range` of values is -0.666667 to 32.333333\n",
    "- RobustScaler is more robust to outliers than MinMaxScaler and StandardScaler\n",
    "- `equation` for robust scaling: `(x - Q1) / (Q3 - Q1)`\n",
    "  - `Q1` is the first quartile\n",
    "  - `Q3` is the third quartile\n",
    "  - `x` is the value of the datapoint"
   ]
  },
  {
   "cell_type": "markdown",
   "metadata": {},
   "source": [
    "# 4. Logrithmic scaling/ Normalization"
   ]
  },
  {
   "cell_type": "code",
   "execution_count": 14,
   "metadata": {},
   "outputs": [
    {
     "data": {
      "text/html": [
       "<div>\n",
       "<style scoped>\n",
       "    .dataframe tbody tr th:only-of-type {\n",
       "        vertical-align: middle;\n",
       "    }\n",
       "\n",
       "    .dataframe tbody tr th {\n",
       "        vertical-align: top;\n",
       "    }\n",
       "\n",
       "    .dataframe thead th {\n",
       "        text-align: right;\n",
       "    }\n",
       "</style>\n",
       "<table border=\"1\" class=\"dataframe\">\n",
       "  <thead>\n",
       "    <tr style=\"text-align: right;\">\n",
       "      <th></th>\n",
       "      <th>sample_numbers</th>\n",
       "    </tr>\n",
       "  </thead>\n",
       "  <tbody>\n",
       "    <tr>\n",
       "      <th>0</th>\n",
       "      <td>10000</td>\n",
       "    </tr>\n",
       "    <tr>\n",
       "      <th>1</th>\n",
       "      <td>20000</td>\n",
       "    </tr>\n",
       "    <tr>\n",
       "      <th>2</th>\n",
       "      <td>30000</td>\n",
       "    </tr>\n",
       "    <tr>\n",
       "      <th>3</th>\n",
       "      <td>1000000</td>\n",
       "    </tr>\n",
       "    <tr>\n",
       "      <th>4</th>\n",
       "      <td>50000</td>\n",
       "    </tr>\n",
       "  </tbody>\n",
       "</table>\n",
       "</div>"
      ],
      "text/plain": [
       "   sample_numbers\n",
       "0           10000\n",
       "1           20000\n",
       "2           30000\n",
       "3         1000000\n",
       "4           50000"
      ]
     },
     "execution_count": 14,
     "metadata": {},
     "output_type": "execute_result"
    }
   ],
   "source": [
    "# 1 Import Libraries:\n",
    "import numpy as np  # numpy for numerical computing\n",
    "import pandas as pd # pandas for data manipulation\n",
    "\n",
    "#2 Random data with outliers:\n",
    "data = {'sample_numbers': [10000, 20000, 30000, 1000000, 50000]}\n",
    "\n",
    "# 1000000 is an outlier in this dataset\n",
    "\n",
    "#3 create a dataframe:\n",
    "df = pd.DataFrame(data)\n",
    "# Show sample data:\n",
    "df.head()"
   ]
  },
  {
   "cell_type": "code",
   "execution_count": 15,
   "metadata": {},
   "outputs": [
    {
     "data": {
      "text/html": [
       "<div>\n",
       "<style scoped>\n",
       "    .dataframe tbody tr th:only-of-type {\n",
       "        vertical-align: middle;\n",
       "    }\n",
       "\n",
       "    .dataframe tbody tr th {\n",
       "        vertical-align: top;\n",
       "    }\n",
       "\n",
       "    .dataframe thead th {\n",
       "        text-align: right;\n",
       "    }\n",
       "</style>\n",
       "<table border=\"1\" class=\"dataframe\">\n",
       "  <thead>\n",
       "    <tr style=\"text-align: right;\">\n",
       "      <th></th>\n",
       "      <th>sample_numbers</th>\n",
       "      <th>sample_numbers_log</th>\n",
       "      <th>sample_numbers_log2</th>\n",
       "      <th>sample_numbers_log10</th>\n",
       "    </tr>\n",
       "  </thead>\n",
       "  <tbody>\n",
       "    <tr>\n",
       "      <th>0</th>\n",
       "      <td>10000</td>\n",
       "      <td>9.210340</td>\n",
       "      <td>13.287712</td>\n",
       "      <td>4.000000</td>\n",
       "    </tr>\n",
       "    <tr>\n",
       "      <th>1</th>\n",
       "      <td>20000</td>\n",
       "      <td>9.903488</td>\n",
       "      <td>14.287712</td>\n",
       "      <td>4.301030</td>\n",
       "    </tr>\n",
       "    <tr>\n",
       "      <th>2</th>\n",
       "      <td>30000</td>\n",
       "      <td>10.308953</td>\n",
       "      <td>14.872675</td>\n",
       "      <td>4.477121</td>\n",
       "    </tr>\n",
       "    <tr>\n",
       "      <th>3</th>\n",
       "      <td>1000000</td>\n",
       "      <td>13.815511</td>\n",
       "      <td>19.931569</td>\n",
       "      <td>6.000000</td>\n",
       "    </tr>\n",
       "    <tr>\n",
       "      <th>4</th>\n",
       "      <td>50000</td>\n",
       "      <td>10.819778</td>\n",
       "      <td>15.609640</td>\n",
       "      <td>4.698970</td>\n",
       "    </tr>\n",
       "  </tbody>\n",
       "</table>\n",
       "</div>"
      ],
      "text/plain": [
       "   sample_numbers  sample_numbers_log  sample_numbers_log2  \\\n",
       "0           10000            9.210340            13.287712   \n",
       "1           20000            9.903488            14.287712   \n",
       "2           30000           10.308953            14.872675   \n",
       "3         1000000           13.815511            19.931569   \n",
       "4           50000           10.819778            15.609640   \n",
       "\n",
       "   sample_numbers_log10  \n",
       "0              4.000000  \n",
       "1              4.301030  \n",
       "2              4.477121  \n",
       "3              6.000000  \n",
       "4              4.698970  "
      ]
     },
     "execution_count": 15,
     "metadata": {},
     "output_type": "execute_result"
    }
   ],
   "source": [
    "#4 Log Transform:\n",
    "df['sample_numbers_log'] = np.log(df['sample_numbers'])\n",
    "# np.log is a function within numpy that calculates the natural log of a number\n",
    "\n",
    "df['sample_numbers_log2'] = np.log2(df['sample_numbers'])\n",
    "# np.log2 is a function within numpy that calculates the log base 2 of a number\n",
    "\n",
    "df['sample_numbers_log10'] = np.log10(df['sample_numbers'])\n",
    "# np.log10 is a function within numpy that calculates the log base 10 of a number\n",
    "\n",
    "df.head()"
   ]
  },
  {
   "cell_type": "code",
   "execution_count": 16,
   "metadata": {},
   "outputs": [
    {
     "data": {
      "text/plain": [
       "<Axes: xlabel='sample_numbers_log'>"
      ]
     },
     "execution_count": 16,
     "metadata": {},
     "output_type": "execute_result"
    },
    {
     "data": {
      "image/png": "[encoded data removed]",
      "text/plain": [
       "<Figure size 640x480 with 1 Axes>"
      ]
     },
     "metadata": {},
     "output_type": "display_data"
    }
   ],
   "source": [
    "import seaborn as sns\n",
    "sns.boxplot(df, x=\"sample_numbers_log\")"
   ]
  },
  {
   "cell_type": "markdown",
   "metadata": {},
   "source": [
    "- we can clearly see the outlier in the log transformed data "
   ]
  },
  {
   "cell_type": "markdown",
   "metadata": {},
   "source": [
    "---\n",
    "\n",
    "# Information about the instructor:\n",
    "\n",
    "- **Author**: Muhammad Fareed Khan\n",
    "- **Code Submission Date**: 12-12-2023\n",
    "- **Author's Contact Info**:\n",
    "  \n",
    "    - 📧 Email: [Email](mailto:contact@mfareedkhan.com)\n",
    "    - 🐱‍💻 Github: [Github](https://github.com/fareedkhands)\n",
    "    - 📊 Kaggle: [Kaggle](https://www.kaggle.com/muhammadfareedkhan)\n",
    "    - 💼 LinkedIn: [LinkedIn](https://www.linkedin.com/in/fareed-khan-385b79150/)\n",
    "    -  🐦 Twitter: [Twitter](https://twitter.com/fareedkhanmeyo)\n"
   ]
  }
 ],
 "metadata": {
  "kernelspec": {
   "display_name": "python_eda",
   "language": "python",
   "name": "python3"
  },
  "language_info": {
   "codemirror_mode": {
    "name": "ipython",
    "version": 3
   },
   "file_extension": ".py",
   "mimetype": "text/x-python",
   "name": "python",
   "nbconvert_exporter": "python",
   "pygments_lexer": "ipython3",
   "version": "3.11.5"
  }
 },
 "nbformat": 4,
 "nbformat_minor": 2
}
